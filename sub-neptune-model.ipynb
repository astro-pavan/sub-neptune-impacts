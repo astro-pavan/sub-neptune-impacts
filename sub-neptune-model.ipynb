{
 "cells": [
  {
   "cell_type": "code",
   "execution_count": 1,
   "id": "6b659173-24b9-4546-b7f1-c00859b086f3",
   "metadata": {},
   "outputs": [],
   "source": [
    "import numpy as np\n",
    "import matplotlib.pyplot as plt\n",
    "from scipy.integrate import *\n",
    "\n",
    "import woma"
   ]
  },
  {
   "cell_type": "code",
   "execution_count": 2,
   "id": "04a255f5-7b27-43c0-89cb-86711fd14276",
   "metadata": {},
   "outputs": [],
   "source": [
    "G = 6.67e-11"
   ]
  },
  {
   "cell_type": "markdown",
   "id": "02063948-86bf-4dff-a4fd-95fc0f0721b2",
   "metadata": {},
   "source": [
    "Equations of state"
   ]
  },
  {
   "cell_type": "code",
   "execution_count": null,
   "id": "5d3da15b",
   "metadata": {},
   "outputs": [],
   "source": [
    "def rho():\n",
    "    return woma.A1_rho_P_T()"
   ]
  },
  {
   "cell_type": "markdown",
   "id": "413d5c33",
   "metadata": {},
   "source": [
    "Thermal profile"
   ]
  },
  {
   "cell_type": "code",
   "execution_count": null,
   "id": "645dec24",
   "metadata": {},
   "outputs": [],
   "source": []
  },
  {
   "cell_type": "markdown",
   "id": "9935ecae-ea14-4a93-b5fd-718e56e7d4ed",
   "metadata": {},
   "source": [
    "Internal structure equations"
   ]
  },
  {
   "cell_type": "code",
   "execution_count": null,
   "id": "c1e9242a-8234-4fd3-97dc-9e0665e4b29c",
   "metadata": {},
   "outputs": [],
   "source": [
    "def dr_dm(m, r, P):\n",
    "    return 1 / (4 * np.pi * (r ** 2) * rho(P, m))\n",
    "\n",
    "def dP_dm(m, r, P):\n",
    "    return (- G *m) / (4 * np.pi * (r ** 4))"
   ]
  }
 ],
 "metadata": {
  "kernelspec": {
   "display_name": ".venv",
   "language": "python",
   "name": "python3"
  },
  "language_info": {
   "codemirror_mode": {
    "name": "ipython",
    "version": 3
   },
   "file_extension": ".py",
   "mimetype": "text/x-python",
   "name": "python",
   "nbconvert_exporter": "python",
   "pygments_lexer": "ipython3",
   "version": "3.9.18"
  }
 },
 "nbformat": 4,
 "nbformat_minor": 5
}
