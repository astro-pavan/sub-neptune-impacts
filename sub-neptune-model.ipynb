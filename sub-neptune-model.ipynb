{
 "cells": [
  {
   "cell_type": "code",
   "execution_count": 2,
   "id": "6b659173-24b9-4546-b7f1-c00859b086f3",
   "metadata": {},
   "outputs": [
    {
     "ename": "ModuleNotFoundError",
     "evalue": "No module named 'woma'",
     "output_type": "error",
     "traceback": [
      "\u001b[0;31m---------------------------------------------------------------------------\u001b[0m",
      "\u001b[0;31mModuleNotFoundError\u001b[0m                       Traceback (most recent call last)",
      "Cell \u001b[0;32mIn[2], line 5\u001b[0m\n\u001b[1;32m      2\u001b[0m \u001b[38;5;28;01mimport\u001b[39;00m \u001b[38;5;21;01mmatplotlib\u001b[39;00m\u001b[38;5;21;01m.\u001b[39;00m\u001b[38;5;21;01mpyplot\u001b[39;00m \u001b[38;5;28;01mas\u001b[39;00m \u001b[38;5;21;01mplt\u001b[39;00m\n\u001b[1;32m      3\u001b[0m \u001b[38;5;28;01mfrom\u001b[39;00m \u001b[38;5;21;01mscipy\u001b[39;00m\u001b[38;5;21;01m.\u001b[39;00m\u001b[38;5;21;01mintegrate\u001b[39;00m \u001b[38;5;28;01mimport\u001b[39;00m \u001b[38;5;241m*\u001b[39m\n\u001b[0;32m----> 5\u001b[0m \u001b[38;5;28;01mimport\u001b[39;00m \u001b[38;5;21;01mwoma\u001b[39;00m\n",
      "\u001b[0;31mModuleNotFoundError\u001b[0m: No module named 'woma'"
     ]
    }
   ],
   "source": [
    "import numpy as np\n",
    "import matplotlib.pyplot as plt\n",
    "from scipy.integrate import *"
   ]
  },
  {
   "cell_type": "code",
   "execution_count": null,
   "id": "04a255f5-7b27-43c0-89cb-86711fd14276",
   "metadata": {},
   "outputs": [],
   "source": [
    "G = 6.67e-11"
   ]
  },
  {
   "cell_type": "markdown",
   "id": "02063948-86bf-4dff-a4fd-95fc0f0721b2",
   "metadata": {},
   "source": [
    "Equations of state"
   ]
  },
  {
   "cell_type": "markdown",
   "id": "9935ecae-ea14-4a93-b5fd-718e56e7d4ed",
   "metadata": {},
   "source": [
    "Internal structure equations"
   ]
  },
  {
   "cell_type": "code",
   "execution_count": null,
   "id": "c1e9242a-8234-4fd3-97dc-9e0665e4b29c",
   "metadata": {},
   "outputs": [],
   "source": [
    "def dr_dm(m, r, P):\n",
    "    return 1 / (4 * np.pi * (r ** 2) * rho(P, m)\n",
    "\n",
    "def dP_dm(m, r, P):\n",
    "    return (- G *m) / (4 * np.pi * (r ** 4))"
   ]
  }
 ],
 "metadata": {
  "kernelspec": {
   "display_name": "Python 3 (ipykernel)",
   "language": "python",
   "name": "python3"
  },
  "language_info": {
   "codemirror_mode": {
    "name": "ipython",
    "version": 3
   },
   "file_extension": ".py",
   "mimetype": "text/x-python",
   "name": "python",
   "nbconvert_exporter": "python",
   "pygments_lexer": "ipython3",
   "version": "3.11.4"
  }
 },
 "nbformat": 4,
 "nbformat_minor": 5
}
